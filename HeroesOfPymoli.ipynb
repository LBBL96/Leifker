{
 "cells": [
  {
   "cell_type": "markdown",
   "metadata": {},
   "source": [
    "### Heroes Of Pymoli Data Analysis\n",
    "* Of the 1163 active players, the vast majority are male (84%). There also exists, a smaller, but notable proportion of female players (14%).\n",
    "\n",
    "* Our peak age demographic falls between 20-24 (44.8%) with secondary groups falling between 15-19 (18.60%) and 25-29 (13.4%).  \n",
    "-----"
   ]
  },
  {
   "cell_type": "markdown",
   "metadata": {},
   "source": [
    "### Note\n",
    "* Instructions have been included for each segment. You do not have to follow them exactly, but they are included to help you think through the steps."
   ]
  },
  {
   "cell_type": "code",
   "execution_count": 1,
   "metadata": {},
   "outputs": [],
   "source": [
    "# Dependencies and Setup\n",
    "import pandas as pd\n",
    "import numpy as np\n",
    "\n",
    "# File to Load (Remember to Change These)\n",
    "file_to_load = \"Resources/purchase_data.csv\"\n",
    "\n",
    "# Read Purchasing File and store into Pandas data frame\n",
    "purchase_data = pd.read_csv(file_to_load)"
   ]
  },
  {
   "cell_type": "markdown",
   "metadata": {},
   "source": [
    "## Player Count"
   ]
  },
  {
   "cell_type": "markdown",
   "metadata": {},
   "source": [
    "* Display the total number of players\n"
   ]
  },
  {
   "cell_type": "code",
   "execution_count": 41,
   "metadata": {},
   "outputs": [
    {
     "data": {
      "text/html": [
       "<div>\n",
       "<style scoped>\n",
       "    .dataframe tbody tr th:only-of-type {\n",
       "        vertical-align: middle;\n",
       "    }\n",
       "\n",
       "    .dataframe tbody tr th {\n",
       "        vertical-align: top;\n",
       "    }\n",
       "\n",
       "    .dataframe thead th {\n",
       "        text-align: right;\n",
       "    }\n",
       "</style>\n",
       "<table border=\"1\" class=\"dataframe\">\n",
       "  <thead>\n",
       "    <tr style=\"text-align: right;\">\n",
       "      <th></th>\n",
       "      <th>Total Players</th>\n",
       "    </tr>\n",
       "  </thead>\n",
       "  <tbody>\n",
       "    <tr>\n",
       "      <th>0</th>\n",
       "      <td>576</td>\n",
       "    </tr>\n",
       "  </tbody>\n",
       "</table>\n",
       "</div>"
      ],
      "text/plain": [
       "   Total Players\n",
       "0            576"
      ]
     },
     "execution_count": 41,
     "metadata": {},
     "output_type": "execute_result"
    }
   ],
   "source": [
    "# The best way to determine the number of players is to look at unique screen names\n",
    "\n",
    "num_players = purchase_data.SN.nunique()\n",
    "\n",
    "# Now create a dataframe using that data\n",
    "\n",
    "data = {\"Total Players\": [num_players]}\n",
    "playerDF = pd.DataFrame(data)\n",
    "\n",
    "playerDF"
   ]
  },
  {
   "cell_type": "markdown",
   "metadata": {},
   "source": [
    "## Purchasing Analysis (Total)"
   ]
  },
  {
   "cell_type": "markdown",
   "metadata": {},
   "source": [
    "* Run basic calculations to obtain number of unique items, average price, etc.\n",
    "\n",
    "\n",
    "* Create a summary data frame to hold the results\n",
    "\n",
    "\n",
    "* Optional: give the displayed data cleaner formatting\n",
    "\n",
    "\n",
    "* Display the summary data frame\n"
   ]
  },
  {
   "cell_type": "code",
   "execution_count": 73,
   "metadata": {},
   "outputs": [
    {
     "data": {
      "text/html": [
       "<style  type=\"text/css\" >\n",
       "</style><table id=\"T_f9433cc0_c173_11e9_852d_60f81daf18dc\" ><thead>    <tr>        <th class=\"blank level0\" ></th>        <th class=\"col_heading level0 col0\" >Number of Unique Items</th>        <th class=\"col_heading level0 col1\" >Average Price</th>        <th class=\"col_heading level0 col2\" >Number of Purchases</th>        <th class=\"col_heading level0 col3\" >Total Revenue</th>    </tr></thead><tbody>\n",
       "                <tr>\n",
       "                        <th id=\"T_f9433cc0_c173_11e9_852d_60f81daf18dclevel0_row0\" class=\"row_heading level0 row0\" >0</th>\n",
       "                        <td id=\"T_f9433cc0_c173_11e9_852d_60f81daf18dcrow0_col0\" class=\"data row0 col0\" >183</td>\n",
       "                        <td id=\"T_f9433cc0_c173_11e9_852d_60f81daf18dcrow0_col1\" class=\"data row0 col1\" >$3.05</td>\n",
       "                        <td id=\"T_f9433cc0_c173_11e9_852d_60f81daf18dcrow0_col2\" class=\"data row0 col2\" >780</td>\n",
       "                        <td id=\"T_f9433cc0_c173_11e9_852d_60f81daf18dcrow0_col3\" class=\"data row0 col3\" >$2,379.77</td>\n",
       "            </tr>\n",
       "    </tbody></table>"
      ],
      "text/plain": [
       "<pandas.io.formats.style.Styler at 0x115b7c208>"
      ]
     },
     "execution_count": 73,
     "metadata": {},
     "output_type": "execute_result"
    }
   ],
   "source": [
    "# The way I've chosen to attack the rest of these questions is by building series and then dataframes from\n",
    "# those series.\n",
    "\n",
    "# Create pandas series for unique items in Item ID, and then name the series\n",
    "\n",
    "unique_items = pd.Series(purchase_data[\"Item ID\"].nunique(), name = \"Number of Unique Items\")\n",
    "\n",
    "\n",
    "# Create series finding the mean price, naming the series, and then rounding to two places\n",
    "\n",
    "avg_price = pd.Series(purchase_data.Price.mean(), name = \"Average Price\")\n",
    "avg_price = round(avg_price, 2)\n",
    "\n",
    "\n",
    "# Create series for unique purchases, and name it\n",
    "\n",
    "num_purchases = pd.Series(purchase_data[\"Purchase ID\"].nunique(), name = \"Number of Purchases\")\n",
    "\n",
    "\n",
    "# Create series that sums the prices, and name it\n",
    "\n",
    "total_rev = pd.Series(purchase_data.Price.sum(), name = \"Total Revenue\")\n",
    "\n",
    "\n",
    "# Concatenate the series, then convert them into pandas dataframe\n",
    "\n",
    "df = pd.concat([unique_items, avg_price, num_purchases, total_rev], axis = 1)\n",
    "Purchase_AnalysisDF = pd.DataFrame(df)\n",
    "Purchase_AnalysisDF\n",
    "\n",
    "# Making the formatting pretty (including hiding the index)\n",
    "\n",
    "format_dict = {'Average Price':'${0:,.2f}', 'Total Revenue': '${0:,.2f}'}\n",
    "Purchase_AnalysisDF.style.format(format_dict)"
   ]
  },
  {
   "cell_type": "markdown",
   "metadata": {},
   "source": [
    "* Percentage and Count of Male Players\n",
    "\n",
    "\n",
    "* Percentage and Count of Female Players\n",
    "\n",
    "\n",
    "* Percentage and Count of Other / Non-Disclosed\n",
    "\n",
    "\n"
   ]
  },
  {
   "cell_type": "code",
   "execution_count": 50,
   "metadata": {},
   "outputs": [
    {
     "data": {
      "text/html": [
       "<style  type=\"text/css\" >\n",
       "</style><table id=\"T_0fef1b22_c171_11e9_bde7_60f81daf18dc\" ><thead>    <tr>        <th class=\"blank level0\" ></th>        <th class=\"col_heading level0 col0\" >Total Count</th>        <th class=\"col_heading level0 col1\" >Percentage of Players</th>    </tr>    <tr>        <th class=\"index_name level0\" >Gender</th>        <th class=\"blank\" ></th>        <th class=\"blank\" ></th>    </tr></thead><tbody>\n",
       "                <tr>\n",
       "                        <th id=\"T_0fef1b22_c171_11e9_bde7_60f81daf18dclevel0_row0\" class=\"row_heading level0 row0\" >Female</th>\n",
       "                        <td id=\"T_0fef1b22_c171_11e9_bde7_60f81daf18dcrow0_col0\" class=\"data row0 col0\" >81</td>\n",
       "                        <td id=\"T_0fef1b22_c171_11e9_bde7_60f81daf18dcrow0_col1\" class=\"data row0 col1\" >14.06%</td>\n",
       "            </tr>\n",
       "            <tr>\n",
       "                        <th id=\"T_0fef1b22_c171_11e9_bde7_60f81daf18dclevel0_row1\" class=\"row_heading level0 row1\" >Male</th>\n",
       "                        <td id=\"T_0fef1b22_c171_11e9_bde7_60f81daf18dcrow1_col0\" class=\"data row1 col0\" >484</td>\n",
       "                        <td id=\"T_0fef1b22_c171_11e9_bde7_60f81daf18dcrow1_col1\" class=\"data row1 col1\" >84.03%</td>\n",
       "            </tr>\n",
       "            <tr>\n",
       "                        <th id=\"T_0fef1b22_c171_11e9_bde7_60f81daf18dclevel0_row2\" class=\"row_heading level0 row2\" >Other / Non-Disclosed</th>\n",
       "                        <td id=\"T_0fef1b22_c171_11e9_bde7_60f81daf18dcrow2_col0\" class=\"data row2 col0\" >11</td>\n",
       "                        <td id=\"T_0fef1b22_c171_11e9_bde7_60f81daf18dcrow2_col1\" class=\"data row2 col1\" >1.91%</td>\n",
       "            </tr>\n",
       "    </tbody></table>"
      ],
      "text/plain": [
       "<pandas.io.formats.style.Styler at 0x1173beb00>"
      ]
     },
     "execution_count": 50,
     "metadata": {},
     "output_type": "execute_result"
    }
   ],
   "source": [
    "# Find number of unique users by gender and then make numpy array for calculation of percentages\n",
    "\n",
    "gen = purchase_data.groupby([\"Gender\"])[\"SN\"].nunique()\n",
    "np.array(gen)\n",
    "\n",
    "# Making a new array of percentages \n",
    "\n",
    "pct_gen = gen/num_players\n",
    "\n",
    "# Turning the arrays into panda series with names\n",
    "\n",
    "s1 = pd.Series(gen, name = \"Total Count\") \n",
    "s2 = pd.Series(pct_gen, name = \"Percentage of Players\")\n",
    "\n",
    "# Concatenating the series to make a new dataframe\n",
    "\n",
    "newDF = pd.concat([s1, s2], axis = 1)\n",
    "\n",
    "# Making the formatting pretty\n",
    "\n",
    "format_dict = {\"Percentage of Players\": '{:.2%}'}\n",
    "newDF.style.format(formatdict)\n"
   ]
  },
  {
   "cell_type": "markdown",
   "metadata": {},
   "source": [
    "\n",
    "## Purchasing Analysis (Gender)"
   ]
  },
  {
   "cell_type": "markdown",
   "metadata": {},
   "source": [
    "* Run basic calculations to obtain purchase count, avg. purchase price, avg. purchase total per person etc. by gender\n",
    "\n",
    "\n",
    "\n",
    "\n",
    "* Create a summary data frame to hold the results\n",
    "\n",
    "\n",
    "* Optional: give the displayed data cleaner formatting\n",
    "\n",
    "\n",
    "* Display the summary data frame"
   ]
  },
  {
   "cell_type": "code",
   "execution_count": 74,
   "metadata": {},
   "outputs": [
    {
     "data": {
      "text/html": [
       "<style  type=\"text/css\" >\n",
       "</style><table id=\"T_0726a08c_c174_11e9_8c5e_60f81daf18dc\" ><thead>    <tr>        <th class=\"blank level0\" ></th>        <th class=\"col_heading level0 col0\" >Purchase Count</th>        <th class=\"col_heading level0 col1\" >Average Purchase Price</th>        <th class=\"col_heading level0 col2\" >Total Purchase Value</th>        <th class=\"col_heading level0 col3\" >Avg Total Purchase per Person</th>    </tr>    <tr>        <th class=\"index_name level0\" >Gender</th>        <th class=\"blank\" ></th>        <th class=\"blank\" ></th>        <th class=\"blank\" ></th>        <th class=\"blank\" ></th>    </tr></thead><tbody>\n",
       "                <tr>\n",
       "                        <th id=\"T_0726a08c_c174_11e9_8c5e_60f81daf18dclevel0_row0\" class=\"row_heading level0 row0\" >Female</th>\n",
       "                        <td id=\"T_0726a08c_c174_11e9_8c5e_60f81daf18dcrow0_col0\" class=\"data row0 col0\" >113</td>\n",
       "                        <td id=\"T_0726a08c_c174_11e9_8c5e_60f81daf18dcrow0_col1\" class=\"data row0 col1\" >$3.20</td>\n",
       "                        <td id=\"T_0726a08c_c174_11e9_8c5e_60f81daf18dcrow0_col2\" class=\"data row0 col2\" >$361.94</td>\n",
       "                        <td id=\"T_0726a08c_c174_11e9_8c5e_60f81daf18dcrow0_col3\" class=\"data row0 col3\" >$4.47</td>\n",
       "            </tr>\n",
       "            <tr>\n",
       "                        <th id=\"T_0726a08c_c174_11e9_8c5e_60f81daf18dclevel0_row1\" class=\"row_heading level0 row1\" >Male</th>\n",
       "                        <td id=\"T_0726a08c_c174_11e9_8c5e_60f81daf18dcrow1_col0\" class=\"data row1 col0\" >652</td>\n",
       "                        <td id=\"T_0726a08c_c174_11e9_8c5e_60f81daf18dcrow1_col1\" class=\"data row1 col1\" >$3.02</td>\n",
       "                        <td id=\"T_0726a08c_c174_11e9_8c5e_60f81daf18dcrow1_col2\" class=\"data row1 col2\" >$1,967.64</td>\n",
       "                        <td id=\"T_0726a08c_c174_11e9_8c5e_60f81daf18dcrow1_col3\" class=\"data row1 col3\" >$4.07</td>\n",
       "            </tr>\n",
       "            <tr>\n",
       "                        <th id=\"T_0726a08c_c174_11e9_8c5e_60f81daf18dclevel0_row2\" class=\"row_heading level0 row2\" >Other / Non-Disclosed</th>\n",
       "                        <td id=\"T_0726a08c_c174_11e9_8c5e_60f81daf18dcrow2_col0\" class=\"data row2 col0\" >15</td>\n",
       "                        <td id=\"T_0726a08c_c174_11e9_8c5e_60f81daf18dcrow2_col1\" class=\"data row2 col1\" >$3.35</td>\n",
       "                        <td id=\"T_0726a08c_c174_11e9_8c5e_60f81daf18dcrow2_col2\" class=\"data row2 col2\" >$50.19</td>\n",
       "                        <td id=\"T_0726a08c_c174_11e9_8c5e_60f81daf18dcrow2_col3\" class=\"data row2 col3\" >$4.56</td>\n",
       "            </tr>\n",
       "    </tbody></table>"
      ],
      "text/plain": [
       "<pandas.io.formats.style.Styler at 0x115b50c88>"
      ]
     },
     "execution_count": 74,
     "metadata": {},
     "output_type": "execute_result"
    }
   ],
   "source": [
    "# Create series of purchases by gender, then count\n",
    "\n",
    "pur_count = pd.Series(purchase_data.groupby([\"Gender\"])[\"Purchase ID\"].count(), name = \"Purchase Count\")\n",
    "\n",
    "\n",
    "# Create series of the prices paid by gender\n",
    "\n",
    "tot_pur_val = pd.Series(purchase_data.groupby([\"Gender\"])[\"Price\"].agg(sum), name = \"Total Purchase Value\")\n",
    "\n",
    "\n",
    "# Create series of average purchase price and round to two places\n",
    "\n",
    "avg_pur_price = pd.Series(round(tot_pur_val/pur_count, 2), name = \"Average Purchase Price\")\n",
    "\n",
    "\n",
    "# Divide total price paid by the total count of players by gender to get average total per person\n",
    "\n",
    "avg_per_person = pd.Series(round(tot_pur_val/gen, 2), name = \"Avg Total Purchase per Person\")\n",
    "\n",
    "# Concatenate the series, then turn into a dataframe\n",
    "\n",
    "pur_analysisPD = pd.concat([pur_count, avg_pur_price, tot_pur_val, avg_per_person], axis = 1)\n",
    "pur_analysisPD = pd.DataFrame(pur_analysisPD)\n",
    "pur_analysisPD\n",
    "\n",
    "format_dict = {'Average Purchase Price':'${0:,.2f}', 'Total Purchase Value': '${0:,.2f}',\n",
    "               'Avg Total Purchase per Person': '${0:,.2f}'}\n",
    "pur_analysisPD.style.format(format_dict)"
   ]
  },
  {
   "cell_type": "markdown",
   "metadata": {},
   "source": [
    "## Age Demographics"
   ]
  },
  {
   "cell_type": "markdown",
   "metadata": {},
   "source": [
    "* Establish bins for ages\n",
    "\n",
    "\n",
    "* Categorize the existing players using the age bins. Hint: use pd.cut()\n",
    "\n",
    "\n",
    "* Calculate the numbers and percentages by age group\n",
    "\n",
    "\n",
    "* Create a summary data frame to hold the results\n",
    "\n",
    "\n",
    "* Optional: round the percentage column to two decimal points\n",
    "\n",
    "\n",
    "* Display Age Demographics Table\n"
   ]
  },
  {
   "cell_type": "code",
   "execution_count": 56,
   "metadata": {},
   "outputs": [
    {
     "data": {
      "text/html": [
       "<style  type=\"text/css\" >\n",
       "</style><table id=\"T_946be9f4_c171_11e9_855a_60f81daf18dc\" ><thead>    <tr>        <th class=\"blank level0\" ></th>        <th class=\"col_heading level0 col0\" >Total Count</th>        <th class=\"col_heading level0 col1\" >Percentage of Players</th>    </tr>    <tr>        <th class=\"index_name level0\" >Age Group</th>        <th class=\"blank\" ></th>        <th class=\"blank\" ></th>    </tr></thead><tbody>\n",
       "                <tr>\n",
       "                        <th id=\"T_946be9f4_c171_11e9_855a_60f81daf18dclevel0_row0\" class=\"row_heading level0 row0\" ><10</th>\n",
       "                        <td id=\"T_946be9f4_c171_11e9_855a_60f81daf18dcrow0_col0\" class=\"data row0 col0\" >17</td>\n",
       "                        <td id=\"T_946be9f4_c171_11e9_855a_60f81daf18dcrow0_col1\" class=\"data row0 col1\" >2.95%</td>\n",
       "            </tr>\n",
       "            <tr>\n",
       "                        <th id=\"T_946be9f4_c171_11e9_855a_60f81daf18dclevel0_row1\" class=\"row_heading level0 row1\" >10-14</th>\n",
       "                        <td id=\"T_946be9f4_c171_11e9_855a_60f81daf18dcrow1_col0\" class=\"data row1 col0\" >22</td>\n",
       "                        <td id=\"T_946be9f4_c171_11e9_855a_60f81daf18dcrow1_col1\" class=\"data row1 col1\" >3.82%</td>\n",
       "            </tr>\n",
       "            <tr>\n",
       "                        <th id=\"T_946be9f4_c171_11e9_855a_60f81daf18dclevel0_row2\" class=\"row_heading level0 row2\" >15-19</th>\n",
       "                        <td id=\"T_946be9f4_c171_11e9_855a_60f81daf18dcrow2_col0\" class=\"data row2 col0\" >107</td>\n",
       "                        <td id=\"T_946be9f4_c171_11e9_855a_60f81daf18dcrow2_col1\" class=\"data row2 col1\" >18.58%</td>\n",
       "            </tr>\n",
       "            <tr>\n",
       "                        <th id=\"T_946be9f4_c171_11e9_855a_60f81daf18dclevel0_row3\" class=\"row_heading level0 row3\" >20-24</th>\n",
       "                        <td id=\"T_946be9f4_c171_11e9_855a_60f81daf18dcrow3_col0\" class=\"data row3 col0\" >258</td>\n",
       "                        <td id=\"T_946be9f4_c171_11e9_855a_60f81daf18dcrow3_col1\" class=\"data row3 col1\" >44.79%</td>\n",
       "            </tr>\n",
       "            <tr>\n",
       "                        <th id=\"T_946be9f4_c171_11e9_855a_60f81daf18dclevel0_row4\" class=\"row_heading level0 row4\" >25-29</th>\n",
       "                        <td id=\"T_946be9f4_c171_11e9_855a_60f81daf18dcrow4_col0\" class=\"data row4 col0\" >77</td>\n",
       "                        <td id=\"T_946be9f4_c171_11e9_855a_60f81daf18dcrow4_col1\" class=\"data row4 col1\" >13.37%</td>\n",
       "            </tr>\n",
       "            <tr>\n",
       "                        <th id=\"T_946be9f4_c171_11e9_855a_60f81daf18dclevel0_row5\" class=\"row_heading level0 row5\" >30-34</th>\n",
       "                        <td id=\"T_946be9f4_c171_11e9_855a_60f81daf18dcrow5_col0\" class=\"data row5 col0\" >52</td>\n",
       "                        <td id=\"T_946be9f4_c171_11e9_855a_60f81daf18dcrow5_col1\" class=\"data row5 col1\" >9.03%</td>\n",
       "            </tr>\n",
       "            <tr>\n",
       "                        <th id=\"T_946be9f4_c171_11e9_855a_60f81daf18dclevel0_row6\" class=\"row_heading level0 row6\" >35-39</th>\n",
       "                        <td id=\"T_946be9f4_c171_11e9_855a_60f81daf18dcrow6_col0\" class=\"data row6 col0\" >31</td>\n",
       "                        <td id=\"T_946be9f4_c171_11e9_855a_60f81daf18dcrow6_col1\" class=\"data row6 col1\" >5.38%</td>\n",
       "            </tr>\n",
       "            <tr>\n",
       "                        <th id=\"T_946be9f4_c171_11e9_855a_60f81daf18dclevel0_row7\" class=\"row_heading level0 row7\" >40+</th>\n",
       "                        <td id=\"T_946be9f4_c171_11e9_855a_60f81daf18dcrow7_col0\" class=\"data row7 col0\" >12</td>\n",
       "                        <td id=\"T_946be9f4_c171_11e9_855a_60f81daf18dcrow7_col1\" class=\"data row7 col1\" >2.08%</td>\n",
       "            </tr>\n",
       "    </tbody></table>"
      ],
      "text/plain": [
       "<pandas.io.formats.style.Styler at 0x1173f3198>"
      ]
     },
     "execution_count": 56,
     "metadata": {},
     "output_type": "execute_result"
    }
   ],
   "source": [
    "# Create bins and name them\n",
    "\n",
    "bins = [0, 9, 14, 19, 24, 29, 34, 39, 100]\n",
    "bins_names = [\"<10\", \"10-14\", \"15-19\", \"20-24\", \"25-29\", \"30-34\", \"35-39\", \"40+\"]\n",
    "\n",
    "\n",
    "# Pull out Age and assign to bins\n",
    "\n",
    "purchase_data[\"Age Group\"] = pd.cut(purchase_data[\"Age\"], bins, labels = bins_names)\n",
    "\n",
    "# Turn our binned data into a series\n",
    "\n",
    "Age_Count = pd.Series(purchase_data.groupby(\"Age Group\")[\"SN\"].nunique(), name = \"Total Count\")\n",
    "\n",
    "\n",
    "# Make a series of binned data as percentage\n",
    "\n",
    "age_percentage = pd.Series(Age_Count/num_players, name = \"Percentage of Players\")\n",
    "\n",
    "# Concatenate series and make into a dataframe\n",
    "\n",
    "binned_ageDF = pd.concat([Age_Count, age_percentage], axis = 1)\n",
    "binned_ageDF = pd.DataFrame(binned_ageDF)\n",
    "\n",
    "# Making the formatting pretty\n",
    "format_dict = {\"Percentage of Players\": '{:.2%}'}\n",
    "binned_ageDF = binned_ageDF.style.format(format_dict)\n",
    "\n",
    "binned_ageDF"
   ]
  },
  {
   "cell_type": "markdown",
   "metadata": {},
   "source": [
    "## Purchasing Analysis (Age)"
   ]
  },
  {
   "cell_type": "markdown",
   "metadata": {},
   "source": [
    "* Bin the purchase_data data frame by age\n",
    "\n",
    "\n",
    "* Run basic calculations to obtain purchase count, avg. purchase price, avg. purchase total per person etc. in the table below\n",
    "\n",
    "\n",
    "* Create a summary data frame to hold the results\n",
    "\n",
    "\n",
    "* Optional: give the displayed data cleaner formatting\n",
    "\n",
    "\n",
    "* Display the summary data frame"
   ]
  },
  {
   "cell_type": "code",
   "execution_count": 75,
   "metadata": {},
   "outputs": [
    {
     "data": {
      "text/html": [
       "<style  type=\"text/css\" >\n",
       "</style><table id=\"T_1345ea82_c174_11e9_931e_60f81daf18dc\" ><thead>    <tr>        <th class=\"blank level0\" ></th>        <th class=\"col_heading level0 col0\" >Purchase Count</th>        <th class=\"col_heading level0 col1\" >Average Purchase Price</th>        <th class=\"col_heading level0 col2\" >Total Purchase Value</th>        <th class=\"col_heading level0 col3\" >Avg Total Purchase per Person</th>    </tr>    <tr>        <th class=\"index_name level0\" >Age Group</th>        <th class=\"blank\" ></th>        <th class=\"blank\" ></th>        <th class=\"blank\" ></th>        <th class=\"blank\" ></th>    </tr></thead><tbody>\n",
       "                <tr>\n",
       "                        <th id=\"T_1345ea82_c174_11e9_931e_60f81daf18dclevel0_row0\" class=\"row_heading level0 row0\" ><10</th>\n",
       "                        <td id=\"T_1345ea82_c174_11e9_931e_60f81daf18dcrow0_col0\" class=\"data row0 col0\" >23</td>\n",
       "                        <td id=\"T_1345ea82_c174_11e9_931e_60f81daf18dcrow0_col1\" class=\"data row0 col1\" >$3.35</td>\n",
       "                        <td id=\"T_1345ea82_c174_11e9_931e_60f81daf18dcrow0_col2\" class=\"data row0 col2\" >$77.13</td>\n",
       "                        <td id=\"T_1345ea82_c174_11e9_931e_60f81daf18dcrow0_col3\" class=\"data row0 col3\" >$4.54</td>\n",
       "            </tr>\n",
       "            <tr>\n",
       "                        <th id=\"T_1345ea82_c174_11e9_931e_60f81daf18dclevel0_row1\" class=\"row_heading level0 row1\" >10-14</th>\n",
       "                        <td id=\"T_1345ea82_c174_11e9_931e_60f81daf18dcrow1_col0\" class=\"data row1 col0\" >28</td>\n",
       "                        <td id=\"T_1345ea82_c174_11e9_931e_60f81daf18dcrow1_col1\" class=\"data row1 col1\" >$2.96</td>\n",
       "                        <td id=\"T_1345ea82_c174_11e9_931e_60f81daf18dcrow1_col2\" class=\"data row1 col2\" >$82.78</td>\n",
       "                        <td id=\"T_1345ea82_c174_11e9_931e_60f81daf18dcrow1_col3\" class=\"data row1 col3\" >$3.76</td>\n",
       "            </tr>\n",
       "            <tr>\n",
       "                        <th id=\"T_1345ea82_c174_11e9_931e_60f81daf18dclevel0_row2\" class=\"row_heading level0 row2\" >15-19</th>\n",
       "                        <td id=\"T_1345ea82_c174_11e9_931e_60f81daf18dcrow2_col0\" class=\"data row2 col0\" >136</td>\n",
       "                        <td id=\"T_1345ea82_c174_11e9_931e_60f81daf18dcrow2_col1\" class=\"data row2 col1\" >$3.04</td>\n",
       "                        <td id=\"T_1345ea82_c174_11e9_931e_60f81daf18dcrow2_col2\" class=\"data row2 col2\" >$412.89</td>\n",
       "                        <td id=\"T_1345ea82_c174_11e9_931e_60f81daf18dcrow2_col3\" class=\"data row2 col3\" >$3.86</td>\n",
       "            </tr>\n",
       "            <tr>\n",
       "                        <th id=\"T_1345ea82_c174_11e9_931e_60f81daf18dclevel0_row3\" class=\"row_heading level0 row3\" >20-24</th>\n",
       "                        <td id=\"T_1345ea82_c174_11e9_931e_60f81daf18dcrow3_col0\" class=\"data row3 col0\" >365</td>\n",
       "                        <td id=\"T_1345ea82_c174_11e9_931e_60f81daf18dcrow3_col1\" class=\"data row3 col1\" >$3.05</td>\n",
       "                        <td id=\"T_1345ea82_c174_11e9_931e_60f81daf18dcrow3_col2\" class=\"data row3 col2\" >$1,114.06</td>\n",
       "                        <td id=\"T_1345ea82_c174_11e9_931e_60f81daf18dcrow3_col3\" class=\"data row3 col3\" >$4.32</td>\n",
       "            </tr>\n",
       "            <tr>\n",
       "                        <th id=\"T_1345ea82_c174_11e9_931e_60f81daf18dclevel0_row4\" class=\"row_heading level0 row4\" >25-29</th>\n",
       "                        <td id=\"T_1345ea82_c174_11e9_931e_60f81daf18dcrow4_col0\" class=\"data row4 col0\" >101</td>\n",
       "                        <td id=\"T_1345ea82_c174_11e9_931e_60f81daf18dcrow4_col1\" class=\"data row4 col1\" >$2.90</td>\n",
       "                        <td id=\"T_1345ea82_c174_11e9_931e_60f81daf18dcrow4_col2\" class=\"data row4 col2\" >$293.00</td>\n",
       "                        <td id=\"T_1345ea82_c174_11e9_931e_60f81daf18dcrow4_col3\" class=\"data row4 col3\" >$3.81</td>\n",
       "            </tr>\n",
       "            <tr>\n",
       "                        <th id=\"T_1345ea82_c174_11e9_931e_60f81daf18dclevel0_row5\" class=\"row_heading level0 row5\" >30-34</th>\n",
       "                        <td id=\"T_1345ea82_c174_11e9_931e_60f81daf18dcrow5_col0\" class=\"data row5 col0\" >73</td>\n",
       "                        <td id=\"T_1345ea82_c174_11e9_931e_60f81daf18dcrow5_col1\" class=\"data row5 col1\" >$2.93</td>\n",
       "                        <td id=\"T_1345ea82_c174_11e9_931e_60f81daf18dcrow5_col2\" class=\"data row5 col2\" >$214.00</td>\n",
       "                        <td id=\"T_1345ea82_c174_11e9_931e_60f81daf18dcrow5_col3\" class=\"data row5 col3\" >$4.12</td>\n",
       "            </tr>\n",
       "            <tr>\n",
       "                        <th id=\"T_1345ea82_c174_11e9_931e_60f81daf18dclevel0_row6\" class=\"row_heading level0 row6\" >35-39</th>\n",
       "                        <td id=\"T_1345ea82_c174_11e9_931e_60f81daf18dcrow6_col0\" class=\"data row6 col0\" >41</td>\n",
       "                        <td id=\"T_1345ea82_c174_11e9_931e_60f81daf18dcrow6_col1\" class=\"data row6 col1\" >$3.60</td>\n",
       "                        <td id=\"T_1345ea82_c174_11e9_931e_60f81daf18dcrow6_col2\" class=\"data row6 col2\" >$147.67</td>\n",
       "                        <td id=\"T_1345ea82_c174_11e9_931e_60f81daf18dcrow6_col3\" class=\"data row6 col3\" >$4.76</td>\n",
       "            </tr>\n",
       "            <tr>\n",
       "                        <th id=\"T_1345ea82_c174_11e9_931e_60f81daf18dclevel0_row7\" class=\"row_heading level0 row7\" >40+</th>\n",
       "                        <td id=\"T_1345ea82_c174_11e9_931e_60f81daf18dcrow7_col0\" class=\"data row7 col0\" >13</td>\n",
       "                        <td id=\"T_1345ea82_c174_11e9_931e_60f81daf18dcrow7_col1\" class=\"data row7 col1\" >$2.94</td>\n",
       "                        <td id=\"T_1345ea82_c174_11e9_931e_60f81daf18dcrow7_col2\" class=\"data row7 col2\" >$38.24</td>\n",
       "                        <td id=\"T_1345ea82_c174_11e9_931e_60f81daf18dcrow7_col3\" class=\"data row7 col3\" >$3.19</td>\n",
       "            </tr>\n",
       "    </tbody></table>"
      ],
      "text/plain": [
       "<pandas.io.formats.style.Styler at 0x1173f3048>"
      ]
     },
     "execution_count": 75,
     "metadata": {},
     "output_type": "execute_result"
    }
   ],
   "source": [
    "# Since purchase_data already contains Age Groups thanks to the cell above, I can work with that column.\n",
    "# I chose to leave the ages in order rather than move the under-10's to the bottom row.\n",
    "\n",
    "# Series of unique purchases by age\n",
    "\n",
    "age_pur_count = pd.Series(purchase_data.groupby(\"Age Group\")[\"Purchase ID\"].nunique(), name = \"Purchase Count\")\n",
    "\n",
    "# Series of average purchase price by group\n",
    "\n",
    "age_avg_price = pd.Series(round(purchase_data.groupby(\"Age Group\")[\"Price\"].mean(), 2), \n",
    "                          name = \"Average Purchase Price\")\n",
    "\n",
    "# Series of the total price paid by group\n",
    "\n",
    "age_tot_val = pd.Series(purchase_data.groupby(\"Age Group\")[\"Price\"].sum(), name = \"Total Purchase Value\")\n",
    "\n",
    "# Series of the average total per person, using Age_Count from cell above\n",
    "\n",
    "age_per_person = pd.Series(round(age_tot_val/Age_Count, 2), name = \"Avg Total Purchase per Person\")\n",
    "\n",
    "# Concatenate and turn into dataframe\n",
    "\n",
    "Analysis_by_AgeDF = pd.concat([age_pur_count, age_avg_price, age_tot_val, age_per_person], axis = 1)\n",
    "Analysis_by_AgeDF = pd.DataFrame(Analysis_by_AgeDF)\n",
    "\n",
    "# Making the formatting pretty\n",
    "\n",
    "format_dict = {'Average Purchase Price':'${0:,.2f}', 'Total Purchase Value': '${0:,.2f}',\n",
    "               'Avg Total Purchase per Person': '${0:,.2f}'}\n",
    "Analysis_by_AgeDF = Analysis_by_AgeDF.style.format(format_dict)\n",
    "\n",
    "Analysis_by_AgeDF"
   ]
  },
  {
   "cell_type": "markdown",
   "metadata": {},
   "source": [
    "## Top Spenders"
   ]
  },
  {
   "cell_type": "markdown",
   "metadata": {},
   "source": [
    "* Run basic calculations to obtain the results in the table below\n",
    "\n",
    "\n",
    "* Create a summary data frame to hold the results\n",
    "\n",
    "\n",
    "* Sort the total purchase value column in descending order\n",
    "\n",
    "\n",
    "* Optional: give the displayed data cleaner formatting\n",
    "\n",
    "\n",
    "* Display a preview of the summary data frame\n",
    "\n"
   ]
  },
  {
   "cell_type": "code",
   "execution_count": 72,
   "metadata": {},
   "outputs": [
    {
     "data": {
      "text/html": [
       "<div>\n",
       "<style scoped>\n",
       "    .dataframe tbody tr th:only-of-type {\n",
       "        vertical-align: middle;\n",
       "    }\n",
       "\n",
       "    .dataframe tbody tr th {\n",
       "        vertical-align: top;\n",
       "    }\n",
       "\n",
       "    .dataframe thead th {\n",
       "        text-align: right;\n",
       "    }\n",
       "</style>\n",
       "<table border=\"1\" class=\"dataframe\">\n",
       "  <thead>\n",
       "    <tr style=\"text-align: right;\">\n",
       "      <th></th>\n",
       "      <th>Purchase Count</th>\n",
       "      <th>Average Purchase Price</th>\n",
       "      <th>Total Purchase Value</th>\n",
       "    </tr>\n",
       "    <tr>\n",
       "      <th>SN</th>\n",
       "      <th></th>\n",
       "      <th></th>\n",
       "      <th></th>\n",
       "    </tr>\n",
       "  </thead>\n",
       "  <tbody>\n",
       "    <tr>\n",
       "      <th>Lisosia93</th>\n",
       "      <td>5</td>\n",
       "      <td>3.79</td>\n",
       "      <td>18.96</td>\n",
       "    </tr>\n",
       "    <tr>\n",
       "      <th>Iral74</th>\n",
       "      <td>4</td>\n",
       "      <td>3.40</td>\n",
       "      <td>13.62</td>\n",
       "    </tr>\n",
       "    <tr>\n",
       "      <th>Idastidru52</th>\n",
       "      <td>4</td>\n",
       "      <td>3.86</td>\n",
       "      <td>15.45</td>\n",
       "    </tr>\n",
       "    <tr>\n",
       "      <th>Asur53</th>\n",
       "      <td>3</td>\n",
       "      <td>2.48</td>\n",
       "      <td>7.44</td>\n",
       "    </tr>\n",
       "    <tr>\n",
       "      <th>Inguron55</th>\n",
       "      <td>3</td>\n",
       "      <td>3.70</td>\n",
       "      <td>11.11</td>\n",
       "    </tr>\n",
       "  </tbody>\n",
       "</table>\n",
       "</div>"
      ],
      "text/plain": [
       "             Purchase Count  Average Purchase Price  Total Purchase Value\n",
       "SN                                                                       \n",
       "Lisosia93                 5                    3.79                 18.96\n",
       "Iral74                    4                    3.40                 13.62\n",
       "Idastidru52               4                    3.86                 15.45\n",
       "Asur53                    3                    2.48                  7.44\n",
       "Inguron55                 3                    3.70                 11.11"
      ]
     },
     "execution_count": 72,
     "metadata": {},
     "output_type": "execute_result"
    }
   ],
   "source": [
    "# After much hair-pulling and google-fu, I figured out how to do a combination of groupby and agg to \n",
    "# knock out a working dataframe in a single line. The count, mean, and sum functions within agg\n",
    "# both name the column and perform the function named.\n",
    "\n",
    "Top_Spender_df = pd.DataFrame(purchase_data.groupby(\"SN\")[\"Price\"].agg([\"count\", \"mean\",\"sum\"]))\n",
    "\n",
    "# Sort by purchase count\n",
    "\n",
    "Top_Spender_df = Top_Spender_df.sort_values(\"count\", ascending = False)\n",
    "\n",
    "# Rename the columns that agg named\n",
    "\n",
    "columns = {\"count\": \"Purchase Count\", \"mean\": \"Average Purchase Price\", \"sum\": \"Total Purchase Value\"}\n",
    "Top_Spender_df = Top_Spender_df.rename(columns = columns)\n",
    "\n",
    "# Making the formatting pretty doesn't seem to work here\n",
    "\n",
    "# format_dict = {'Average Purchase Price':'${0:,.2f}', 'Total Purchase Value': '${0:,.2f}'}\n",
    "# Top_Spender_df = Top_Spender_df.style.format(format_dict).hide_index()\n",
    "\n",
    "\n",
    "# Clean up the formatting on purchase price\n",
    "Top_Spender_df[\"Average Purchase Price\"] = round(Top_Spender_df[\"Average Purchase Price\"],2)\n",
    "\n",
    "\n",
    "# Top 5 in descending order\n",
    "\n",
    "Top_Spender_df.head()"
   ]
  },
  {
   "cell_type": "markdown",
   "metadata": {},
   "source": [
    "## Most Popular Items"
   ]
  },
  {
   "cell_type": "markdown",
   "metadata": {},
   "source": [
    "* Retrieve the Item ID, Item Name, and Item Price columns\n",
    "\n",
    "\n",
    "* Group by Item ID and Item Name. Perform calculations to obtain purchase count, item price, and total purchase value\n",
    "\n",
    "\n",
    "* Create a summary data frame to hold the results\n",
    "\n",
    "\n",
    "* Sort the purchase count column in descending order\n",
    "\n",
    "\n",
    "* Optional: give the displayed data cleaner formatting\n",
    "\n",
    "\n",
    "* Display a preview of the summary data frame\n",
    "\n"
   ]
  },
  {
   "cell_type": "code",
   "execution_count": 11,
   "metadata": {},
   "outputs": [
    {
     "data": {
      "text/html": [
       "<div>\n",
       "<style scoped>\n",
       "    .dataframe tbody tr th:only-of-type {\n",
       "        vertical-align: middle;\n",
       "    }\n",
       "\n",
       "    .dataframe tbody tr th {\n",
       "        vertical-align: top;\n",
       "    }\n",
       "\n",
       "    .dataframe thead th {\n",
       "        text-align: right;\n",
       "    }\n",
       "</style>\n",
       "<table border=\"1\" class=\"dataframe\">\n",
       "  <thead>\n",
       "    <tr style=\"text-align: right;\">\n",
       "      <th></th>\n",
       "      <th></th>\n",
       "      <th>Purchase Count</th>\n",
       "      <th>Item Price</th>\n",
       "      <th>Total Purchase Value</th>\n",
       "    </tr>\n",
       "    <tr>\n",
       "      <th>Item ID</th>\n",
       "      <th>Item Name</th>\n",
       "      <th></th>\n",
       "      <th></th>\n",
       "      <th></th>\n",
       "    </tr>\n",
       "  </thead>\n",
       "  <tbody>\n",
       "    <tr>\n",
       "      <th>178</th>\n",
       "      <th>Oathbreaker, Last Hope of the Breaking Storm</th>\n",
       "      <td>12</td>\n",
       "      <td>4.23</td>\n",
       "      <td>50.76</td>\n",
       "    </tr>\n",
       "    <tr>\n",
       "      <th>145</th>\n",
       "      <th>Fiery Glass Crusader</th>\n",
       "      <td>9</td>\n",
       "      <td>4.58</td>\n",
       "      <td>41.22</td>\n",
       "    </tr>\n",
       "    <tr>\n",
       "      <th>108</th>\n",
       "      <th>Extraction, Quickblade Of Trembling Hands</th>\n",
       "      <td>9</td>\n",
       "      <td>3.53</td>\n",
       "      <td>31.77</td>\n",
       "    </tr>\n",
       "    <tr>\n",
       "      <th>82</th>\n",
       "      <th>Nirvana</th>\n",
       "      <td>9</td>\n",
       "      <td>4.90</td>\n",
       "      <td>44.10</td>\n",
       "    </tr>\n",
       "    <tr>\n",
       "      <th>19</th>\n",
       "      <th>Pursuit, Cudgel of Necromancy</th>\n",
       "      <td>8</td>\n",
       "      <td>1.02</td>\n",
       "      <td>8.16</td>\n",
       "    </tr>\n",
       "  </tbody>\n",
       "</table>\n",
       "</div>"
      ],
      "text/plain": [
       "                                                      Purchase Count  \\\n",
       "Item ID Item Name                                                      \n",
       "178     Oathbreaker, Last Hope of the Breaking Storm              12   \n",
       "145     Fiery Glass Crusader                                       9   \n",
       "108     Extraction, Quickblade Of Trembling Hands                  9   \n",
       "82      Nirvana                                                    9   \n",
       "19      Pursuit, Cudgel of Necromancy                              8   \n",
       "\n",
       "                                                      Item Price  \\\n",
       "Item ID Item Name                                                  \n",
       "178     Oathbreaker, Last Hope of the Breaking Storm        4.23   \n",
       "145     Fiery Glass Crusader                                4.58   \n",
       "108     Extraction, Quickblade Of Trembling Hands           3.53   \n",
       "82      Nirvana                                             4.90   \n",
       "19      Pursuit, Cudgel of Necromancy                       1.02   \n",
       "\n",
       "                                                      Total Purchase Value  \n",
       "Item ID Item Name                                                           \n",
       "178     Oathbreaker, Last Hope of the Breaking Storm                 50.76  \n",
       "145     Fiery Glass Crusader                                         41.22  \n",
       "108     Extraction, Quickblade Of Trembling Hands                    31.77  \n",
       "82      Nirvana                                                      44.10  \n",
       "19      Pursuit, Cudgel of Necromancy                                 8.16  "
      ]
     },
     "execution_count": 11,
     "metadata": {},
     "output_type": "execute_result"
    }
   ],
   "source": [
    "# Now I'll do groupby/agg using Item ID and Item Name as top level and then will do counts, mean, and sum\n",
    "# based on price.\n",
    "\n",
    "Most_Pop_df = pd.DataFrame(purchase_data.groupby([\"Item ID\", \"Item Name\"])[\"Price\"].agg([\"count\", \"mean\",\"sum\"]))\n",
    "\n",
    "# Again the sort will be on count, since we're finding out which game is most popular.\n",
    "\n",
    "Most_Pop_df = Most_Pop_df.sort_values(\"count\", ascending = False)\n",
    "\n",
    "# Renaming the columns.\n",
    "\n",
    "columns = {\"count\": \"Purchase Count\", \"mean\": \"Item Price\", \"sum\": \"Total Purchase Value\"}\n",
    "Most_Pop_df = Most_Pop_df.rename(columns = columns)\n",
    "\n",
    "# Top 5 in descending order\n",
    "    \n",
    "Most_Pop_df.head()"
   ]
  },
  {
   "cell_type": "markdown",
   "metadata": {},
   "source": [
    "## Most Profitable Items"
   ]
  },
  {
   "cell_type": "markdown",
   "metadata": {},
   "source": [
    "* Sort the above table by total purchase value in descending order\n",
    "\n",
    "\n",
    "* Optional: give the displayed data cleaner formatting\n",
    "\n",
    "\n",
    "* Display a preview of the data frame\n",
    "\n"
   ]
  },
  {
   "cell_type": "code",
   "execution_count": 10,
   "metadata": {
    "scrolled": true
   },
   "outputs": [
    {
     "data": {
      "text/html": [
       "<div>\n",
       "<style scoped>\n",
       "    .dataframe tbody tr th:only-of-type {\n",
       "        vertical-align: middle;\n",
       "    }\n",
       "\n",
       "    .dataframe tbody tr th {\n",
       "        vertical-align: top;\n",
       "    }\n",
       "\n",
       "    .dataframe thead th {\n",
       "        text-align: right;\n",
       "    }\n",
       "</style>\n",
       "<table border=\"1\" class=\"dataframe\">\n",
       "  <thead>\n",
       "    <tr style=\"text-align: right;\">\n",
       "      <th></th>\n",
       "      <th></th>\n",
       "      <th>Purchase Count</th>\n",
       "      <th>Item Price</th>\n",
       "      <th>Total Purchase Value</th>\n",
       "    </tr>\n",
       "    <tr>\n",
       "      <th>Item ID</th>\n",
       "      <th>Item Name</th>\n",
       "      <th></th>\n",
       "      <th></th>\n",
       "      <th></th>\n",
       "    </tr>\n",
       "  </thead>\n",
       "  <tbody>\n",
       "    <tr>\n",
       "      <th>178</th>\n",
       "      <th>Oathbreaker, Last Hope of the Breaking Storm</th>\n",
       "      <td>12</td>\n",
       "      <td>4.23</td>\n",
       "      <td>50.76</td>\n",
       "    </tr>\n",
       "    <tr>\n",
       "      <th>82</th>\n",
       "      <th>Nirvana</th>\n",
       "      <td>9</td>\n",
       "      <td>4.90</td>\n",
       "      <td>44.10</td>\n",
       "    </tr>\n",
       "    <tr>\n",
       "      <th>145</th>\n",
       "      <th>Fiery Glass Crusader</th>\n",
       "      <td>9</td>\n",
       "      <td>4.58</td>\n",
       "      <td>41.22</td>\n",
       "    </tr>\n",
       "    <tr>\n",
       "      <th>92</th>\n",
       "      <th>Final Critic</th>\n",
       "      <td>8</td>\n",
       "      <td>4.88</td>\n",
       "      <td>39.04</td>\n",
       "    </tr>\n",
       "    <tr>\n",
       "      <th>103</th>\n",
       "      <th>Singed Scalpel</th>\n",
       "      <td>8</td>\n",
       "      <td>4.35</td>\n",
       "      <td>34.80</td>\n",
       "    </tr>\n",
       "  </tbody>\n",
       "</table>\n",
       "</div>"
      ],
      "text/plain": [
       "                                                      Purchase Count  \\\n",
       "Item ID Item Name                                                      \n",
       "178     Oathbreaker, Last Hope of the Breaking Storm              12   \n",
       "82      Nirvana                                                    9   \n",
       "145     Fiery Glass Crusader                                       9   \n",
       "92      Final Critic                                               8   \n",
       "103     Singed Scalpel                                             8   \n",
       "\n",
       "                                                      Item Price  \\\n",
       "Item ID Item Name                                                  \n",
       "178     Oathbreaker, Last Hope of the Breaking Storm        4.23   \n",
       "82      Nirvana                                             4.90   \n",
       "145     Fiery Glass Crusader                                4.58   \n",
       "92      Final Critic                                        4.88   \n",
       "103     Singed Scalpel                                      4.35   \n",
       "\n",
       "                                                      Total Purchase Value  \n",
       "Item ID Item Name                                                           \n",
       "178     Oathbreaker, Last Hope of the Breaking Storm                 50.76  \n",
       "82      Nirvana                                                      44.10  \n",
       "145     Fiery Glass Crusader                                         41.22  \n",
       "92      Final Critic                                                 39.04  \n",
       "103     Singed Scalpel                                               34.80  "
      ]
     },
     "execution_count": 10,
     "metadata": {},
     "output_type": "execute_result"
    }
   ],
   "source": [
    "# This dataframe is exactly the same as Most_Pop_df\n",
    "\n",
    "Most_Profit_df = pd.DataFrame(purchase_data.groupby([\"Item ID\", \"Item Name\"])[\"Price\"].agg([\"count\", \"mean\",\"sum\"]))\n",
    "\n",
    "# The difference is that it's sorted by Total Purchase Value (which has yet to be renamed in this line)\n",
    "\n",
    "Most_Profit_df = Most_Profit_df.sort_values(\"sum\", ascending = False)\n",
    "\n",
    "# Renaming the columns\n",
    "columns = {\"count\": \"Purchase Count\", \"mean\": \"Item Price\", \"sum\": \"Total Purchase Value\"}\n",
    "Most_Profit_df = Most_Profit_df.rename(columns = columns)\n",
    "\n",
    "# Top 5 in descending order\n",
    "\n",
    "Most_Profit_df.head()"
   ]
  },
  {
   "cell_type": "markdown",
   "metadata": {},
   "source": [
    "\n",
    "\n",
    "\n",
    "\n",
    "Three trends I see:\n",
    "\n",
    "1) Games that are purchased most often are (not surprisingly) the most profitable or nearly the most profitable.\n",
    "\n",
    "2) On a per-person average by gender, the best spenders are female. Out of curiosity, I checked the gender of the top five spenders overall. They're all male.\n",
    "\n",
    "3) By age, kids under 10 and adults aged 35-39 (who also happen to be the right age to have kids under 10) spend the most per person. It might be worth trying to develop games that appeal to them -- but it's more of a sure thing to stick with the core group of 20-24-year-olds. They account for 44% of gamers and 48% ($1114/$2380) of total revenue.\n"
   ]
  }
 ],
 "metadata": {
  "anaconda-cloud": {},
  "kernel_info": {
   "name": "python3"
  },
  "kernelspec": {
   "display_name": "Python 3",
   "language": "python",
   "name": "python3"
  },
  "language_info": {
   "codemirror_mode": {
    "name": "ipython",
    "version": 3
   },
   "file_extension": ".py",
   "mimetype": "text/x-python",
   "name": "python",
   "nbconvert_exporter": "python",
   "pygments_lexer": "ipython3",
   "version": "3.6.8"
  },
  "latex_envs": {
   "LaTeX_envs_menu_present": true,
   "autoclose": false,
   "autocomplete": true,
   "bibliofile": "biblio.bib",
   "cite_by": "apalike",
   "current_citInitial": 1,
   "eqLabelWithNumbers": true,
   "eqNumInitial": 1,
   "hotkeys": {
    "equation": "Ctrl-E",
    "itemize": "Ctrl-I"
   },
   "labels_anchors": false,
   "latex_user_defs": false,
   "report_style_numbering": false,
   "user_envs_cfg": false
  },
  "nteract": {
   "version": "0.2.0"
  }
 },
 "nbformat": 4,
 "nbformat_minor": 2
}
